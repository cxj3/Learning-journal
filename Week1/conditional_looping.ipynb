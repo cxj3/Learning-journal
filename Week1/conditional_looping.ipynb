{
 "cells": [
  {
   "cell_type": "code",
   "execution_count": 1,
   "metadata": {},
   "outputs": [
    {
     "data": {
      "text/plain": [
       "2"
      ]
     },
     "execution_count": 1,
     "metadata": {},
     "output_type": "execute_result"
    }
   ],
   "source": [
    "1+1"
   ]
  },
  {
   "cell_type": "code",
   "execution_count": 7,
   "metadata": {},
   "outputs": [
    {
     "name": "stdout",
     "output_type": "stream",
     "text": [
      "2 lebih kecil dari 10\n"
     ]
    }
   ],
   "source": [
    "# Kondisi if / else\n",
    "angka = 2\n",
    "if angka > 10:\n",
    "    print(f'{angka} lebih besar dari 10')\n",
    "else:\n",
    "    print(f'{angka} lebih kecil dari 10')"
   ]
  },
  {
   "cell_type": "code",
   "execution_count": 18,
   "metadata": {},
   "outputs": [
    {
     "name": "stdout",
     "output_type": "stream",
     "text": [
      "2 adalah angka genap\n"
     ]
    }
   ],
   "source": [
    "# cari angka ganjil - genap\n",
    "angka = 2\n",
    "if angka % 2 == 0:\n",
    "    print(f'{angka} adalah angka genap')\n",
    "else:\n",
    "    print(f'{angka} adalah angka ganjil')"
   ]
  },
  {
   "cell_type": "code",
   "execution_count": 22,
   "metadata": {},
   "outputs": [
    {
     "name": "stdout",
     "output_type": "stream",
     "text": [
      "10 sama dengan 10\n"
     ]
    }
   ],
   "source": [
    "# Kondisi lebih dari 2. \"elif\" bisa dipakai berkali kali \n",
    "angka = 10\n",
    "if angka > 10:\n",
    "    print(f'{angka} lebih besar dari 10')\n",
    "elif angka == 10:\n",
    "    print(f'{angka} sama dengan 10')\n",
    "else:\n",
    "    print(f'{angka} lebih kecil dari 10')"
   ]
  },
  {
   "cell_type": "code",
   "execution_count": 26,
   "metadata": {},
   "outputs": [
    {
     "name": "stdout",
     "output_type": "stream",
     "text": [
      "abangnya jual nasi\n"
     ]
    }
   ],
   "source": [
    "#List and if / else\n",
    "menu = [\"nasi\",\n",
    "        \"ayam\", \n",
    "        \"mie\", \n",
    "        \"bakpao\", \n",
    "        \"roti\", \n",
    "        \"pizza\", \n",
    "        \"burger\"]\n",
    "\n",
    "makanan = \"nasi\"\n",
    "if makanan in menu:\n",
    "    print(f\"abangnya jual {makanan}\")\n",
    "else:\n",
    "    print(f\"abangnya nga jual {makanan}\")"
   ]
  },
  {
   "cell_type": "code",
   "execution_count": 30,
   "metadata": {},
   "outputs": [
    {
     "name": "stdout",
     "output_type": "stream",
     "text": [
      "skip, cari tukang buah lain\n"
     ]
    },
    {
     "data": {
      "text/plain": [
       "2"
      ]
     },
     "execution_count": 30,
     "metadata": {},
     "output_type": "execute_result"
    }
   ],
   "source": [
    "# \"len\" - if/ else using number of variable in the list\n",
    "tukang_buah = [\"jeruk\",\"pisang\"]\n",
    "\n",
    "if len(tukang_buah) > 3:\n",
    "    if 'jeruk' in tukang_buah:\n",
    "        print('beli jeruk')\n",
    "    else:\n",
    "        print('mampir aja')\n",
    "else:\n",
    "    print(\"skip, cari tukang buah lain\")\n",
    "\n",
    "\n",
    "len(tukang_buah) # number of variable in the list"
   ]
  },
  {
   "cell_type": "code",
   "execution_count": 38,
   "metadata": {},
   "outputs": [
    {
     "name": "stdout",
     "output_type": "stream",
     "text": [
      "skip, cari tukang buah lain\n"
     ]
    }
   ],
   "source": [
    "# if/ else using variable in the list\n",
    "tukang_buah = [\"jeruk\",\"pisang\", \"rambutan\"]\n",
    "\n",
    "if \"jeruk\" in tukang_buah and \"semangka\" in tukang_buah:\n",
    "    print('beli buah-buahan')\n",
    "else:\n",
    "    print(\"skip, cari tukang buah lain\")\n",
    "\n"
   ]
  },
  {
   "cell_type": "code",
   "execution_count": 70,
   "metadata": {},
   "outputs": [
    {
     "name": "stdout",
     "output_type": "stream",
     "text": [
      "Nilai D\n"
     ]
    }
   ],
   "source": [
    "# QUIZ\n",
    "\n",
    "nilai = 30\n",
    "if nilai >= 0 and nilai <=100:\n",
    "    if nilai > 80:\n",
    "        print('Nilai A')\n",
    "    elif nilai >= 65:\n",
    "        print('Nilai B')\n",
    "    elif nilai >= 40:\n",
    "        print('Nilai C')\n",
    "    elif nilai >= 20:\n",
    "        print('Nilai D')\n",
    "    elif nilai <= 20:\n",
    "        print('Nilai E')\n",
    "else:\n",
    "    print('invalid')"
   ]
  },
  {
   "cell_type": "code",
   "execution_count": 74,
   "metadata": {},
   "outputs": [
    {
     "name": "stdout",
     "output_type": "stream",
     "text": [
      "Nilai E\n"
     ]
    }
   ],
   "source": [
    "# QUIZ \n",
    "\n",
    "nilai = input(\"masukan angka : \")\n",
    "if nilai.isnumeric(): #cek apakah input adalah angka\n",
    "        nilai = float(angka)\n",
    "        if angka >= 0 and angka <=100:\n",
    "            if nilai > 80:\n",
    "                print('Nilai A')\n",
    "            elif nilai >= 65:\n",
    "                print('Nilai B')\n",
    "            elif nilai >= 40:\n",
    "                print('Nilai C')\n",
    "            elif nilai >= 20:\n",
    "                print('Nilai D')\n",
    "            elif nilai <= 20:\n",
    "                print('Nilai E')\n",
    "        else:\n",
    "            print('invalid')\n",
    "else:\n",
    "    print(\"input bukan angka\")"
   ]
  },
  {
   "cell_type": "code",
   "execution_count": 104,
   "metadata": {},
   "outputs": [
    {
     "name": "stdout",
     "output_type": "stream",
     "text": [
      "angka ke :0\n",
      "hello\n",
      "angka ke :1\n",
      "hello\n",
      "angka ke :2\n",
      "hello\n",
      "angka ke :3\n",
      "hello\n",
      "angka ke :4\n",
      "hello\n"
     ]
    }
   ],
   "source": [
    "# Looping\n",
    "\n",
    "x = 0\n",
    "while x < 5:\n",
    "    print(f\"angka ke :{x}\")\n",
    "    print(\"hello\")\n",
    "    x = x + 1 #make sure indentation is in one line"
   ]
  },
  {
   "cell_type": "code",
   "execution_count": 117,
   "metadata": {},
   "outputs": [
    {
     "name": "stdout",
     "output_type": "stream",
     "text": [
      "[]\n"
     ]
    }
   ],
   "source": [
    "# Looping with input\n",
    "\n",
    "pesanan = []\n",
    "pesan = ''\n",
    "while pesan != 'cukup':\n",
    "    pesan = input('Masukan pesanan Anda :')\n",
    "    if pesan != 'cukup':\n",
    "        pesanan.append(pesan)\n",
    "print(pesanan)"
   ]
  },
  {
   "cell_type": "code",
   "execution_count": 113,
   "metadata": {},
   "outputs": [
    {
     "name": "stdout",
     "output_type": "stream",
     "text": [
      "7x1 = 7\n",
      "7x2 = 14\n",
      "7x3 = 21\n",
      "7x4 = 28\n",
      "7x5 = 35\n",
      "7x6 = 42\n",
      "7x7 = 49\n",
      "7x8 = 56\n",
      "7x9 = 63\n",
      "7x10 = 70\n"
     ]
    }
   ],
   "source": [
    "#List perkalian\n",
    "\n",
    "i = 1\n",
    "\n",
    "while i <= 10:\n",
    "    print(f\"7x{i} = {7*i}\")\n",
    "    i = i + 1"
   ]
  },
  {
   "cell_type": "code",
   "execution_count": 119,
   "metadata": {},
   "outputs": [
    {
     "name": "stdout",
     "output_type": "stream",
     "text": [
      "1 x 1 = 1\n",
      "1 x 2 = 2\n",
      "1 x 3 = 3\n",
      "1 x 4 = 4\n",
      "1 x 5 = 5\n",
      "1 x 6 = 6\n",
      "1 x 7 = 7\n",
      "1 x 8 = 8\n",
      "1 x 9 = 9\n",
      "1 x 10 = 10\n",
      "**************************************************\n",
      "2 x 1 = 2\n",
      "2 x 2 = 4\n",
      "2 x 3 = 6\n",
      "2 x 4 = 8\n",
      "2 x 5 = 10\n",
      "2 x 6 = 12\n",
      "2 x 7 = 14\n",
      "2 x 8 = 16\n",
      "2 x 9 = 18\n",
      "2 x 10 = 20\n",
      "**************************************************\n",
      "3 x 1 = 3\n",
      "3 x 2 = 6\n",
      "3 x 3 = 9\n",
      "3 x 4 = 12\n",
      "3 x 5 = 15\n",
      "3 x 6 = 18\n",
      "3 x 7 = 21\n",
      "3 x 8 = 24\n",
      "3 x 9 = 27\n",
      "3 x 10 = 30\n",
      "**************************************************\n",
      "4 x 1 = 4\n",
      "4 x 2 = 8\n",
      "4 x 3 = 12\n",
      "4 x 4 = 16\n",
      "4 x 5 = 20\n",
      "4 x 6 = 24\n",
      "4 x 7 = 28\n",
      "4 x 8 = 32\n",
      "4 x 9 = 36\n",
      "4 x 10 = 40\n",
      "**************************************************\n",
      "5 x 1 = 5\n",
      "5 x 2 = 10\n",
      "5 x 3 = 15\n",
      "5 x 4 = 20\n",
      "5 x 5 = 25\n",
      "5 x 6 = 30\n",
      "5 x 7 = 35\n",
      "5 x 8 = 40\n",
      "5 x 9 = 45\n",
      "5 x 10 = 50\n",
      "**************************************************\n",
      "6 x 1 = 6\n",
      "6 x 2 = 12\n",
      "6 x 3 = 18\n",
      "6 x 4 = 24\n",
      "6 x 5 = 30\n",
      "6 x 6 = 36\n",
      "6 x 7 = 42\n",
      "6 x 8 = 48\n",
      "6 x 9 = 54\n",
      "6 x 10 = 60\n",
      "**************************************************\n",
      "7 x 1 = 7\n",
      "7 x 2 = 14\n",
      "7 x 3 = 21\n",
      "7 x 4 = 28\n",
      "7 x 5 = 35\n",
      "7 x 6 = 42\n",
      "7 x 7 = 49\n",
      "7 x 8 = 56\n",
      "7 x 9 = 63\n",
      "7 x 10 = 70\n",
      "**************************************************\n",
      "8 x 1 = 8\n",
      "8 x 2 = 16\n",
      "8 x 3 = 24\n",
      "8 x 4 = 32\n",
      "8 x 5 = 40\n",
      "8 x 6 = 48\n",
      "8 x 7 = 56\n",
      "8 x 8 = 64\n",
      "8 x 9 = 72\n",
      "8 x 10 = 80\n",
      "**************************************************\n",
      "9 x 1 = 9\n",
      "9 x 2 = 18\n",
      "9 x 3 = 27\n",
      "9 x 4 = 36\n",
      "9 x 5 = 45\n",
      "9 x 6 = 54\n",
      "9 x 7 = 63\n",
      "9 x 8 = 72\n",
      "9 x 9 = 81\n",
      "9 x 10 = 90\n",
      "**************************************************\n",
      "10 x 1 = 10\n",
      "10 x 2 = 20\n",
      "10 x 3 = 30\n",
      "10 x 4 = 40\n",
      "10 x 5 = 50\n",
      "10 x 6 = 60\n",
      "10 x 7 = 70\n",
      "10 x 8 = 80\n",
      "10 x 9 = 90\n",
      "10 x 10 = 100\n",
      "**************************************************\n"
     ]
    }
   ],
   "source": [
    "#Tabel perkalian\n",
    "\n",
    "x = 1\n",
    "y = 1\n",
    "\n",
    "while x <= 10:\n",
    "    while y <= 10: #looping sampai dengan 10\n",
    "        print(f\"{x} x {y} = {x*y}\")\n",
    "        y = y+1\n",
    "    x = x+1\n",
    "    y = 1\n",
    "    print(\"*\"*50) #Print * 50x"
   ]
  },
  {
   "cell_type": "code",
   "execution_count": 127,
   "metadata": {},
   "outputs": [
    {
     "name": "stdout",
     "output_type": "stream",
     "text": [
      "Abang ini jual pepaya\n",
      "Abang ini jual mangga\n",
      "Abang ini jual pisang\n",
      "Abang ini jual jambu\n"
     ]
    }
   ],
   "source": [
    "tukang_buah = ['pepaya', 'mangga', 'pisang', 'jambu']\n",
    "fruit = 0\n",
    "while fruit < len(tukang_buah):\n",
    "        print(f\"Abang ini jual {tukang_buah[fruit]}\")\n",
    "        fruit = fruit + 1"
   ]
  },
  {
   "cell_type": "code",
   "execution_count": 124,
   "metadata": {},
   "outputs": [
    {
     "name": "stdout",
     "output_type": "stream",
     "text": [
      "Abang ini jual pepaya\n",
      "Abang ini jual mangga\n",
      "Abang ini jual pisang\n",
      "Abang ini jual jambu\n"
     ]
    }
   ],
   "source": [
    "tukang_buah = ['pepaya', 'mangga', 'pisang', 'jambu']\n",
    "for fruit in tukang_buah:\n",
    "        print(f\"Abang ini jual {fruit}\")"
   ]
  },
  {
   "cell_type": "code",
   "execution_count": 136,
   "metadata": {},
   "outputs": [
    {
     "name": "stdout",
     "output_type": "stream",
     "text": [
      "Abang ini jual [0], keterangan: stok sedikit\n",
      "Abang ini jual [1], keterangan: stock banyak\n",
      "Abang ini jual [2], keterangan: lagi musim\n",
      "Abang ini jual [3], keterangan: stock banyak\n"
     ]
    }
   ],
   "source": [
    "# DRAFT\n",
    "tukang_buah = ['pepaya', 'mangga', 'pisang', 'jambu']\n",
    "keterangan = ['stok sedikit', 'stock banyak', 'lagi musim', 'stock banyak']\n",
    "for fruit in range(len(tukang_buah)):\n",
    "        print(f\"Abang ini jual {[fruit]}, keterangan: {keterangan[fruit]}\")"
   ]
  },
  {
   "cell_type": "code",
   "execution_count": 129,
   "metadata": {},
   "outputs": [
    {
     "data": {
      "text/plain": [
       "[0, 1, 2, 3]"
      ]
     },
     "execution_count": 129,
     "metadata": {},
     "output_type": "execute_result"
    }
   ],
   "source": [
    "# DRAFT\n",
    "list(range(len(tukang_buah)))"
   ]
  },
  {
   "cell_type": "code",
   "execution_count": null,
   "metadata": {},
   "outputs": [],
   "source": []
  },
  {
   "cell_type": "code",
   "execution_count": 131,
   "metadata": {},
   "outputs": [
    {
     "name": "stdout",
     "output_type": "stream",
     "text": [
      "1 x 1 = 1\n",
      "1 x 2 = 2\n",
      "1 x 3 = 3\n",
      "1 x 4 = 4\n",
      "1 x 5 = 5\n",
      "1 x 6 = 6\n",
      "1 x 7 = 7\n",
      "1 x 8 = 8\n",
      "1 x 9 = 9\n",
      "1 x 10 = 10\n",
      "**************************************************\n",
      "2 x 1 = 2\n",
      "2 x 2 = 4\n",
      "2 x 3 = 6\n",
      "2 x 4 = 8\n",
      "2 x 5 = 10\n",
      "2 x 6 = 12\n",
      "2 x 7 = 14\n",
      "2 x 8 = 16\n",
      "2 x 9 = 18\n",
      "2 x 10 = 20\n",
      "**************************************************\n",
      "3 x 1 = 3\n",
      "3 x 2 = 6\n",
      "3 x 3 = 9\n",
      "3 x 4 = 12\n",
      "3 x 5 = 15\n",
      "3 x 6 = 18\n",
      "3 x 7 = 21\n",
      "3 x 8 = 24\n",
      "3 x 9 = 27\n",
      "3 x 10 = 30\n",
      "**************************************************\n",
      "4 x 1 = 4\n",
      "4 x 2 = 8\n",
      "4 x 3 = 12\n",
      "4 x 4 = 16\n",
      "4 x 5 = 20\n",
      "4 x 6 = 24\n",
      "4 x 7 = 28\n",
      "4 x 8 = 32\n",
      "4 x 9 = 36\n",
      "4 x 10 = 40\n",
      "**************************************************\n",
      "5 x 1 = 5\n",
      "5 x 2 = 10\n",
      "5 x 3 = 15\n",
      "5 x 4 = 20\n",
      "5 x 5 = 25\n",
      "5 x 6 = 30\n",
      "5 x 7 = 35\n",
      "5 x 8 = 40\n",
      "5 x 9 = 45\n",
      "5 x 10 = 50\n",
      "**************************************************\n",
      "6 x 1 = 6\n",
      "6 x 2 = 12\n",
      "6 x 3 = 18\n",
      "6 x 4 = 24\n",
      "6 x 5 = 30\n",
      "6 x 6 = 36\n",
      "6 x 7 = 42\n",
      "6 x 8 = 48\n",
      "6 x 9 = 54\n",
      "6 x 10 = 60\n",
      "**************************************************\n",
      "7 x 1 = 7\n",
      "7 x 2 = 14\n",
      "7 x 3 = 21\n",
      "7 x 4 = 28\n",
      "7 x 5 = 35\n",
      "7 x 6 = 42\n",
      "7 x 7 = 49\n",
      "7 x 8 = 56\n",
      "7 x 9 = 63\n",
      "7 x 10 = 70\n",
      "**************************************************\n",
      "8 x 1 = 8\n",
      "8 x 2 = 16\n",
      "8 x 3 = 24\n",
      "8 x 4 = 32\n",
      "8 x 5 = 40\n",
      "8 x 6 = 48\n",
      "8 x 7 = 56\n",
      "8 x 8 = 64\n",
      "8 x 9 = 72\n",
      "8 x 10 = 80\n",
      "**************************************************\n",
      "9 x 1 = 9\n",
      "9 x 2 = 18\n",
      "9 x 3 = 27\n",
      "9 x 4 = 36\n",
      "9 x 5 = 45\n",
      "9 x 6 = 54\n",
      "9 x 7 = 63\n",
      "9 x 8 = 72\n",
      "9 x 9 = 81\n",
      "9 x 10 = 90\n",
      "**************************************************\n",
      "10 x 1 = 10\n",
      "10 x 2 = 20\n",
      "10 x 3 = 30\n",
      "10 x 4 = 40\n",
      "10 x 5 = 50\n",
      "10 x 6 = 60\n",
      "10 x 7 = 70\n",
      "10 x 8 = 80\n",
      "10 x 9 = 90\n",
      "10 x 10 = 100\n",
      "**************************************************\n"
     ]
    }
   ],
   "source": [
    "#Tabel perkalian - for loop for loop adalah seperti absen, tidak ada infint loop\n",
    "\n",
    "for x in range (1, 11):\n",
    "    for y in range (1, 11): #looping sampai dengan 10\n",
    "        print(f\"{x} x {y} = {x*y}\")\n",
    "    print(\"*\"*50) #Print * 50x"
   ]
  }
 ],
 "metadata": {
  "interpreter": {
   "hash": "aee8b7b246df8f9039afb4144a1f6fd8d2ca17a180786b69acc140d282b71a49"
  },
  "kernelspec": {
   "display_name": "Python 3.10.2 64-bit",
   "language": "python",
   "name": "python3"
  },
  "language_info": {
   "codemirror_mode": {
    "name": "ipython",
    "version": 3
   },
   "file_extension": ".py",
   "mimetype": "text/x-python",
   "name": "python",
   "nbconvert_exporter": "python",
   "pygments_lexer": "ipython3",
   "version": "3.10.2"
  },
  "orig_nbformat": 4
 },
 "nbformat": 4,
 "nbformat_minor": 2
}
